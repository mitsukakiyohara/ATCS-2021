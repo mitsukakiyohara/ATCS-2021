{
 "cells": [
  {
   "cell_type": "code",
   "execution_count": 2,
   "id": "2390b9c3",
   "metadata": {},
   "outputs": [],
   "source": [
    "#Import libraries \n",
    "import pandas as pd\n",
    "import numpy as np\n",
    "import matplotlib.pyplot as plt\n",
    "from textblob import TextBlob\n",
    "from vaderSentiment.vaderSentiment import SentimentIntensityAnalyzer"
   ]
  },
  {
   "cell_type": "markdown",
   "id": "c6ea2a70",
   "metadata": {},
   "source": [
    "# Data Cleaning"
   ]
  },
  {
   "cell_type": "code",
   "execution_count": 12,
   "id": "f42ba237",
   "metadata": {},
   "outputs": [
    {
     "name": "stdout",
     "output_type": "stream",
     "text": [
      "(442748, 10)\n"
     ]
    }
   ],
   "source": [
    "#Preprocess Trump Dataset for analysis\n",
    "df = pd.read_csv(\"dataset/hashtag_donaldtrump.csv\", lineterminator='\\n')\n",
    "df_trump = df.drop(columns=['tweet_id', 'source', 'user_id', 'user_screen_name', 'user_description', 'lat', 'long','state_code', 'collected_at', 'user_location', 'city'])\n",
    "\n",
    "#Removing tweets with NaN values for user_location \n",
    "df_trump = df_trump.dropna(axis='rows', thresh=9)\n",
    "\n",
    "#print(df_trump.isnull())\n",
    "print(df_trump.shape)"
   ]
  },
  {
   "cell_type": "code",
   "execution_count": 8,
   "id": "6267c573",
   "metadata": {},
   "outputs": [
    {
     "data": {
      "text/html": [
       "<div>\n",
       "<style scoped>\n",
       "    .dataframe tbody tr th:only-of-type {\n",
       "        vertical-align: middle;\n",
       "    }\n",
       "\n",
       "    .dataframe tbody tr th {\n",
       "        vertical-align: top;\n",
       "    }\n",
       "\n",
       "    .dataframe thead th {\n",
       "        text-align: right;\n",
       "    }\n",
       "</style>\n",
       "<table border=\"1\" class=\"dataframe\">\n",
       "  <thead>\n",
       "    <tr style=\"text-align: right;\">\n",
       "      <th></th>\n",
       "      <th>created_at</th>\n",
       "      <th>tweet</th>\n",
       "      <th>likes</th>\n",
       "      <th>retweet_count</th>\n",
       "      <th>user_name</th>\n",
       "      <th>user_join_date</th>\n",
       "      <th>user_followers_count</th>\n",
       "      <th>country</th>\n",
       "      <th>continent</th>\n",
       "      <th>state</th>\n",
       "    </tr>\n",
       "  </thead>\n",
       "  <tbody>\n",
       "    <tr>\n",
       "      <th>0</th>\n",
       "      <td>2020-10-15 00:00:01</td>\n",
       "      <td>#Elecciones2020 | En #Florida: #JoeBiden dice ...</td>\n",
       "      <td>0.0</td>\n",
       "      <td>0.0</td>\n",
       "      <td>El Sol Latino News</td>\n",
       "      <td>2011-08-23 15:33:45</td>\n",
       "      <td>1860.0</td>\n",
       "      <td>United States of America</td>\n",
       "      <td>North America</td>\n",
       "      <td>Florida</td>\n",
       "    </tr>\n",
       "    <tr>\n",
       "      <th>2</th>\n",
       "      <td>2020-10-15 00:00:02</td>\n",
       "      <td>#Trump: As a student I used to hear for years,...</td>\n",
       "      <td>2.0</td>\n",
       "      <td>1.0</td>\n",
       "      <td>snarke</td>\n",
       "      <td>2007-08-26 05:56:11</td>\n",
       "      <td>1185.0</td>\n",
       "      <td>United States of America</td>\n",
       "      <td>North America</td>\n",
       "      <td>Oregon</td>\n",
       "    </tr>\n",
       "    <tr>\n",
       "      <th>4</th>\n",
       "      <td>2020-10-15 00:00:08</td>\n",
       "      <td>You get a tie! And you get a tie! #Trump ‘s ra...</td>\n",
       "      <td>4.0</td>\n",
       "      <td>3.0</td>\n",
       "      <td>Rana Abtar - رنا أبتر</td>\n",
       "      <td>2009-06-15 19:05:35</td>\n",
       "      <td>5393.0</td>\n",
       "      <td>United States of America</td>\n",
       "      <td>North America</td>\n",
       "      <td>District of Columbia</td>\n",
       "    </tr>\n",
       "    <tr>\n",
       "      <th>5</th>\n",
       "      <td>2020-10-15 00:00:17</td>\n",
       "      <td>@CLady62 Her 15 minutes were over long time ag...</td>\n",
       "      <td>2.0</td>\n",
       "      <td>0.0</td>\n",
       "      <td>Farris Flagg</td>\n",
       "      <td>2013-02-01 01:37:38</td>\n",
       "      <td>2363.0</td>\n",
       "      <td>United States of America</td>\n",
       "      <td>North America</td>\n",
       "      <td>California</td>\n",
       "    </tr>\n",
       "    <tr>\n",
       "      <th>7</th>\n",
       "      <td>2020-10-15 00:00:18</td>\n",
       "      <td>@DeeviousDenise @realDonaldTrump @nypost There...</td>\n",
       "      <td>0.0</td>\n",
       "      <td>0.0</td>\n",
       "      <td>Stacey Gulledge 🇺🇸 Patriot ♥️ KAG 🙏 👮‍♀️♥️</td>\n",
       "      <td>2017-08-24 16:45:49</td>\n",
       "      <td>766.0</td>\n",
       "      <td>United States of America</td>\n",
       "      <td>North America</td>\n",
       "      <td>Ohio</td>\n",
       "    </tr>\n",
       "    <tr>\n",
       "      <th>8</th>\n",
       "      <td>2020-10-15 00:00:20</td>\n",
       "      <td>One of the single most effective remedies to e...</td>\n",
       "      <td>0.0</td>\n",
       "      <td>0.0</td>\n",
       "      <td>Jamieo</td>\n",
       "      <td>2012-03-30 00:30:54</td>\n",
       "      <td>151.0</td>\n",
       "      <td>United States of America</td>\n",
       "      <td>North America</td>\n",
       "      <td>Pennsylvania</td>\n",
       "    </tr>\n",
       "    <tr>\n",
       "      <th>11</th>\n",
       "      <td>2020-10-15 00:00:25</td>\n",
       "      <td>In 2020, #NYPost is being #censorship #CENSORE...</td>\n",
       "      <td>0.0</td>\n",
       "      <td>0.0</td>\n",
       "      <td>Change Illinois | Biden will increase taxes by...</td>\n",
       "      <td>2009-02-02 23:08:28</td>\n",
       "      <td>1396.0</td>\n",
       "      <td>United States of America</td>\n",
       "      <td>North America</td>\n",
       "      <td>Illinois</td>\n",
       "    </tr>\n",
       "    <tr>\n",
       "      <th>12</th>\n",
       "      <td>2020-10-15 00:00:26</td>\n",
       "      <td>#Trump #PresidentTrump #Trump2020LandslideVict...</td>\n",
       "      <td>3.0</td>\n",
       "      <td>5.0</td>\n",
       "      <td>Ron Burgundy</td>\n",
       "      <td>2020-03-26 23:14:28</td>\n",
       "      <td>496.0</td>\n",
       "      <td>United States of America</td>\n",
       "      <td>North America</td>\n",
       "      <td>California</td>\n",
       "    </tr>\n",
       "    <tr>\n",
       "      <th>13</th>\n",
       "      <td>2020-10-15 00:00:31</td>\n",
       "      <td>@Susan_Hutch @JoeBiden #Ukraine @RealDonaldTru...</td>\n",
       "      <td>2.0</td>\n",
       "      <td>0.0</td>\n",
       "      <td>Sebastian White</td>\n",
       "      <td>2011-07-28 10:07:32</td>\n",
       "      <td>2755.0</td>\n",
       "      <td>United Kingdom</td>\n",
       "      <td>Europe</td>\n",
       "      <td>Scotland</td>\n",
       "    </tr>\n",
       "    <tr>\n",
       "      <th>15</th>\n",
       "      <td>2020-10-15 00:00:42</td>\n",
       "      <td>@meiselasb I wonder which drugs #Trump takes?🤪...</td>\n",
       "      <td>3.0</td>\n",
       "      <td>1.0</td>\n",
       "      <td>Mark Rager</td>\n",
       "      <td>2017-02-16 23:54:29</td>\n",
       "      <td>828.0</td>\n",
       "      <td>Germany</td>\n",
       "      <td>Europe</td>\n",
       "      <td>NaN</td>\n",
       "    </tr>\n",
       "  </tbody>\n",
       "</table>\n",
       "</div>"
      ],
      "text/plain": [
       "             created_at                                              tweet  \\\n",
       "0   2020-10-15 00:00:01  #Elecciones2020 | En #Florida: #JoeBiden dice ...   \n",
       "2   2020-10-15 00:00:02  #Trump: As a student I used to hear for years,...   \n",
       "4   2020-10-15 00:00:08  You get a tie! And you get a tie! #Trump ‘s ra...   \n",
       "5   2020-10-15 00:00:17  @CLady62 Her 15 minutes were over long time ag...   \n",
       "7   2020-10-15 00:00:18  @DeeviousDenise @realDonaldTrump @nypost There...   \n",
       "8   2020-10-15 00:00:20  One of the single most effective remedies to e...   \n",
       "11  2020-10-15 00:00:25  In 2020, #NYPost is being #censorship #CENSORE...   \n",
       "12  2020-10-15 00:00:26  #Trump #PresidentTrump #Trump2020LandslideVict...   \n",
       "13  2020-10-15 00:00:31  @Susan_Hutch @JoeBiden #Ukraine @RealDonaldTru...   \n",
       "15  2020-10-15 00:00:42  @meiselasb I wonder which drugs #Trump takes?🤪...   \n",
       "\n",
       "    likes  retweet_count                                          user_name  \\\n",
       "0     0.0            0.0                                 El Sol Latino News   \n",
       "2     2.0            1.0                                             snarke   \n",
       "4     4.0            3.0                              Rana Abtar - رنا أبتر   \n",
       "5     2.0            0.0                                       Farris Flagg   \n",
       "7     0.0            0.0         Stacey Gulledge 🇺🇸 Patriot ♥️ KAG 🙏 👮‍♀️♥️   \n",
       "8     0.0            0.0                                             Jamieo   \n",
       "11    0.0            0.0  Change Illinois | Biden will increase taxes by...   \n",
       "12    3.0            5.0                                       Ron Burgundy   \n",
       "13    2.0            0.0                                    Sebastian White   \n",
       "15    3.0            1.0                                         Mark Rager   \n",
       "\n",
       "         user_join_date  user_followers_count                   country  \\\n",
       "0   2011-08-23 15:33:45                1860.0  United States of America   \n",
       "2   2007-08-26 05:56:11                1185.0  United States of America   \n",
       "4   2009-06-15 19:05:35                5393.0  United States of America   \n",
       "5   2013-02-01 01:37:38                2363.0  United States of America   \n",
       "7   2017-08-24 16:45:49                 766.0  United States of America   \n",
       "8   2012-03-30 00:30:54                 151.0  United States of America   \n",
       "11  2009-02-02 23:08:28                1396.0  United States of America   \n",
       "12  2020-03-26 23:14:28                 496.0  United States of America   \n",
       "13  2011-07-28 10:07:32                2755.0            United Kingdom   \n",
       "15  2017-02-16 23:54:29                 828.0                   Germany   \n",
       "\n",
       "        continent                 state  \n",
       "0   North America               Florida  \n",
       "2   North America                Oregon  \n",
       "4   North America  District of Columbia  \n",
       "5   North America            California  \n",
       "7   North America                  Ohio  \n",
       "8   North America          Pennsylvania  \n",
       "11  North America              Illinois  \n",
       "12  North America            California  \n",
       "13         Europe              Scotland  \n",
       "15         Europe                   NaN  "
      ]
     },
     "execution_count": 8,
     "metadata": {},
     "output_type": "execute_result"
    }
   ],
   "source": [
    "df_trump.head()"
   ]
  },
  {
   "cell_type": "code",
   "execution_count": 10,
   "id": "15eb996e",
   "metadata": {
    "scrolled": false
   },
   "outputs": [
    {
     "name": "stdout",
     "output_type": "stream",
     "text": [
      "(353777, 10)\n"
     ]
    }
   ],
   "source": [
    "#Preprocess Biden Dataset for analysis\n",
    "df = pd.read_csv(\"dataset/hashtag_joebiden.csv\", lineterminator='\\n')\n",
    "df_biden = df.drop(columns=['tweet_id', 'source', 'user_id', 'user_screen_name', 'user_description', 'lat', 'long','state_code', 'collected_at', 'city', 'user_location'])\n",
    "\n",
    "#Removing tweets with NaN values for user_location \n",
    "df_biden = df_biden.dropna(axis='rows', thresh=9)\n",
    "#df_biden.isnull()\n",
    "\n",
    "print(df_biden.shape)"
   ]
  },
  {
   "cell_type": "markdown",
   "id": "9b840809",
   "metadata": {},
   "source": [
    "# Sentiment Analysis"
   ]
  },
  {
   "cell_type": "markdown",
   "id": "b0ce5fff",
   "metadata": {},
   "source": [
    "## Trump Tweets "
   ]
  },
  {
   "cell_type": "code",
   "execution_count": 14,
   "id": "b9eb0ebb",
   "metadata": {},
   "outputs": [
    {
     "data": {
      "text/plain": [
       "created_at               object\n",
       "tweet                    object\n",
       "likes                   float64\n",
       "retweet_count           float64\n",
       "user_name                object\n",
       "user_join_date           object\n",
       "user_followers_count    float64\n",
       "country                  object\n",
       "continent                object\n",
       "state                    object\n",
       "dtype: object"
      ]
     },
     "execution_count": 14,
     "metadata": {},
     "output_type": "execute_result"
    }
   ],
   "source": [
    "df_trump['tweet'] = df_trump['tweet'].astype(str)\n",
    "df_trump.dtypes"
   ]
  },
  {
   "cell_type": "code",
   "execution_count": null,
   "id": "c02d211b",
   "metadata": {},
   "outputs": [],
   "source": [
    "tweets_trump = [TextBlob(desc) for desc in analysis_Biden['Text']]\n",
    "#add the sentiment metrics to the dataframe\n",
    "analysis_Biden['polarity'] = [b.sentiment.polarity for b in Bdesc_blob]\n",
    "analysis_Biden['Subjectivity'] = [b.sentiment.subjectivity for b in Bdesc_blob]"
   ]
  }
 ],
 "metadata": {
  "kernelspec": {
   "display_name": "Python 3 (ipykernel)",
   "language": "python",
   "name": "python3"
  },
  "language_info": {
   "codemirror_mode": {
    "name": "ipython",
    "version": 3
   },
   "file_extension": ".py",
   "mimetype": "text/x-python",
   "name": "python",
   "nbconvert_exporter": "python",
   "pygments_lexer": "ipython3",
   "version": "3.9.7"
  }
 },
 "nbformat": 4,
 "nbformat_minor": 5
}
