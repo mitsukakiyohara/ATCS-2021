{
 "cells": [
  {
   "cell_type": "code",
   "execution_count": 4,
   "id": "6bf9ad6e",
   "metadata": {},
   "outputs": [],
   "source": [
    "import pandas as pd\n",
    "import matplotlib.pyplot as plt"
   ]
  },
  {
   "cell_type": "code",
   "execution_count": 13,
   "id": "54017a7b",
   "metadata": {},
   "outputs": [
    {
     "name": "stdout",
     "output_type": "stream",
     "text": [
      "     rank                   country continent  score    GDP  social_support  \\\n",
      "0       1                   Finland    Europe  7.769  1.340           1.587   \n",
      "1       2                   Denmark    Europe  7.600  1.383           1.573   \n",
      "2       3                    Norway    Europe  7.554  1.488           1.582   \n",
      "3       4                   Iceland    Europe  7.494  1.380           1.624   \n",
      "4       5               Netherlands    Europe  7.488  1.396           1.522   \n",
      "..    ...                       ...       ...    ...    ...             ...   \n",
      "151   152                    Rwanda    Africa  3.334  0.359           0.711   \n",
      "152   153                  Tanzania    Africa  3.231  0.476           0.885   \n",
      "153   154               Afghanistan      Asia  3.203  0.350           0.517   \n",
      "154   155  Central African Republic    Africa  3.083  0.026           0.000   \n",
      "155   156               South Sudan    Africa  2.853  0.306           0.575   \n",
      "\n",
      "     healthy_life_expectancy  life_choices_freedom  generosity  \\\n",
      "0                      0.986                 0.596       0.153   \n",
      "1                      0.996                 0.592       0.252   \n",
      "2                      1.028                 0.603       0.271   \n",
      "3                      1.026                 0.591       0.354   \n",
      "4                      0.999                 0.557       0.322   \n",
      "..                       ...                   ...         ...   \n",
      "151                    0.614                 0.555       0.217   \n",
      "152                    0.499                 0.417       0.276   \n",
      "153                    0.361                 0.000       0.158   \n",
      "154                    0.105                 0.225       0.235   \n",
      "155                    0.295                 0.010       0.202   \n",
      "\n",
      "     perceptions_of_corruption  \n",
      "0                        0.393  \n",
      "1                        0.410  \n",
      "2                        0.341  \n",
      "3                        0.118  \n",
      "4                        0.298  \n",
      "..                         ...  \n",
      "151                      0.411  \n",
      "152                      0.147  \n",
      "153                      0.025  \n",
      "154                      0.035  \n",
      "155                      0.091  \n",
      "\n",
      "[156 rows x 10 columns]\n"
     ]
    }
   ],
   "source": [
    "pd.set_option(\"display.max_columns\", None)\n",
    "df = pd.read_csv(\"worldHappinessData.csv\")\n",
    "print(df)"
   ]
  },
  {
   "cell_type": "code",
   "execution_count": 14,
   "id": "6893f25a",
   "metadata": {},
   "outputs": [
    {
     "name": "stdout",
     "output_type": "stream",
     "text": [
      "        rank  score    GDP  social_support  healthy_life_expectancy  \\\n",
      "count  156.0  156.0  156.0           156.0                    156.0   \n",
      "mean    78.5    5.4    0.9             1.2                      0.7   \n",
      "std     45.2    1.1    0.4             0.3                      0.2   \n",
      "min      1.0    2.9    0.0             0.0                      0.0   \n",
      "25%     39.8    4.5    0.6             1.1                      0.5   \n",
      "50%     78.5    5.4    1.0             1.3                      0.8   \n",
      "75%    117.2    6.2    1.2             1.5                      0.9   \n",
      "max    156.0    7.8    1.7             1.6                      1.1   \n",
      "\n",
      "       life_choices_freedom  generosity  perceptions_of_corruption  \n",
      "count                 156.0       156.0                      156.0  \n",
      "mean                    0.4         0.2                        0.1  \n",
      "std                     0.1         0.1                        0.1  \n",
      "min                     0.0         0.0                        0.0  \n",
      "25%                     0.3         0.1                        0.0  \n",
      "50%                     0.4         0.2                        0.1  \n",
      "75%                     0.5         0.2                        0.1  \n",
      "max                     0.6         0.6                        0.5  \n"
     ]
    }
   ],
   "source": [
    "print(round(df.describe(), 1)) #round to 1 decimal place\n",
    "#print(df.info())"
   ]
  },
  {
   "cell_type": "code",
   "execution_count": 10,
   "id": "05aebe58",
   "metadata": {},
   "outputs": [
    {
     "name": "stdout",
     "output_type": "stream",
     "text": [
      "   rank      country continent  score    GDP  social_support  \\\n",
      "0     1      Finland    Europe  7.769  1.340           1.587   \n",
      "1     2      Denmark    Europe  7.600  1.383           1.573   \n",
      "2     3       Norway    Europe  7.554  1.488           1.582   \n",
      "3     4      Iceland    Europe  7.494  1.380           1.624   \n",
      "4     5  Netherlands    Europe  7.488  1.396           1.522   \n",
      "\n",
      "   healthy_life_expectancy  life_choices_freedom  generosity  \\\n",
      "0                    0.986                 0.596       0.153   \n",
      "1                    0.996                 0.592       0.252   \n",
      "2                    1.028                 0.603       0.271   \n",
      "3                    1.026                 0.591       0.354   \n",
      "4                    0.999                 0.557       0.322   \n",
      "\n",
      "   perceptions_of_corruption  \n",
      "0                      0.393  \n",
      "1                      0.410  \n",
      "2                      0.341  \n",
      "3                      0.118  \n",
      "4                      0.298  \n"
     ]
    }
   ],
   "source": [
    "print(df.head(5)) #prints first 5 inputs\n",
    "#print(df.tail(5))"
   ]
  },
  {
   "cell_type": "code",
   "execution_count": 11,
   "id": "480a5197",
   "metadata": {},
   "outputs": [
    {
     "name": "stdout",
     "output_type": "stream",
     "text": [
      "0      0.153\n",
      "1      0.252\n",
      "2      0.271\n",
      "3      0.354\n",
      "4      0.322\n",
      "       ...  \n",
      "151    0.217\n",
      "152    0.276\n",
      "153    0.158\n",
      "154    0.235\n",
      "155    0.202\n",
      "Name: generosity, Length: 156, dtype: float64\n"
     ]
    }
   ],
   "source": [
    "print(df[\"generosity\"])"
   ]
  },
  {
   "cell_type": "code",
   "execution_count": 12,
   "id": "c5d19887",
   "metadata": {},
   "outputs": [
    {
     "name": "stdout",
     "output_type": "stream",
     "text": [
      "0      0.621298\n",
      "1      0.633185\n",
      "2      0.649810\n",
      "3      0.631773\n",
      "4      0.656373\n",
      "         ...   \n",
      "151    0.863572\n",
      "152    0.563842\n",
      "153    0.698259\n",
      "154         inf\n",
      "155    0.513043\n",
      "Name: support_to_life_expectancy, Length: 156, dtype: float64\n"
     ]
    }
   ],
   "source": [
    "#Creating a new column\n",
    "df[\"support_to_life_expectancy\"] = df[\"healthy_life_expectancy\"] / df[\"social_support\"]\n",
    "print(df[\"support_to_life_expectancy\"])"
   ]
  },
  {
   "cell_type": "code",
   "execution_count": 15,
   "id": "0d88f3dd",
   "metadata": {},
   "outputs": [
    {
     "name": "stdout",
     "output_type": "stream",
     "text": [
      "                      country    GDP\n",
      "0                     Finland  1.340\n",
      "1                     Denmark  1.383\n",
      "2                      Norway  1.488\n",
      "3                     Iceland  1.380\n",
      "4                 Netherlands  1.396\n",
      "..                        ...    ...\n",
      "151                    Rwanda  0.359\n",
      "152                  Tanzania  0.476\n",
      "153               Afghanistan  0.350\n",
      "154  Central African Republic  0.026\n",
      "155               South Sudan  0.306\n",
      "\n",
      "[156 rows x 2 columns]\n"
     ]
    }
   ],
   "source": [
    "print(df[[\"country\", \"GDP\"]])"
   ]
  },
  {
   "cell_type": "code",
   "execution_count": 22,
   "id": "98a55386",
   "metadata": {
    "scrolled": true
   },
   "outputs": [
    {
     "name": "stdout",
     "output_type": "stream",
     "text": [
      "   rank  social_support\n",
      "2     3           1.582\n",
      "4     5           1.522\n",
      "6     7           1.487\n",
      "    rank country continent  score    GDP  social_support  \\\n",
      "97    98   Ghana    Africa  4.996  0.611           0.868   \n",
      "\n",
      "    healthy_life_expectancy  life_choices_freedom  generosity  \\\n",
      "97                    0.486                 0.381       0.245   \n",
      "\n",
      "    perceptions_of_corruption  \n",
      "97                       0.04  \n"
     ]
    }
   ],
   "source": [
    "#print(df.iloc[0:2, 3:7]) #integer location (specify rows and columns)\n",
    "#print(df.iloc[4])\n",
    "print(df.iloc[[2, 4, 6], [0, 5]])\n",
    "print(df.loc[df[\"country\"] == \"Ghana\"]) #location"
   ]
  },
  {
   "cell_type": "code",
   "execution_count": 23,
   "id": "0e81283a",
   "metadata": {},
   "outputs": [
    {
     "name": "stdout",
     "output_type": "stream",
     "text": [
      "           country  score\n",
      "0          Finland  7.769\n",
      "1          Denmark  7.600\n",
      "2           Norway  7.554\n",
      "3          Iceland  7.494\n",
      "4      Netherlands  7.488\n",
      "5      Switzerland  7.480\n",
      "6           Sweden  7.343\n",
      "7      New Zealand  7.307\n",
      "8           Canada  7.278\n",
      "9          Austria  7.246\n",
      "10       Australia  7.228\n",
      "11      Costa Rica  7.167\n",
      "12          Israel  7.139\n",
      "13      Luxembourg  7.090\n",
      "14  United Kingdom  7.054\n",
      "15         Ireland  7.021\n"
     ]
    }
   ],
   "source": [
    "print(df.loc[df[\"score\"] > 7, [\"country\", \"score\"]])"
   ]
  },
  {
   "cell_type": "code",
   "execution_count": 24,
   "id": "b2ff19f1",
   "metadata": {},
   "outputs": [
    {
     "name": "stdout",
     "output_type": "stream",
     "text": [
      "               rank    score     GDP  social_support  healthy_life_expectancy  \\\n",
      "continent                                                                       \n",
      "Africa         5384  192.039  22.051          41.122                   19.626   \n",
      "Asia           3844  242.499  45.093          55.214                   35.239   \n",
      "Europe         1774  250.687  48.796          57.209                   36.874   \n",
      "North America   579   80.011  12.381          17.284                   10.617   \n",
      "Oceania         137   19.069   3.055           3.934                    2.437   \n",
      "South America   528   59.202   9.827          13.812                    8.345   \n",
      "\n",
      "               life_choices_freedom  generosity  perceptions_of_corruption  \n",
      "continent                                                                   \n",
      "Africa                       14.490       7.679                      4.158  \n",
      "Asia                         18.818       9.730                      5.083  \n",
      "Europe                       16.162       6.956                      5.308  \n",
      "North America                 5.954       2.430                      1.268  \n",
      "Oceania                       1.474       0.869                      0.756  \n",
      "South America                 4.343       1.172                      0.681  \n"
     ]
    }
   ],
   "source": [
    "df1 = df.groupby(\"continent\").sum()\n",
    "print(df1)"
   ]
  },
  {
   "cell_type": "code",
   "execution_count": 25,
   "id": "514410bc",
   "metadata": {},
   "outputs": [
    {
     "data": {
      "image/png": "[encoded data removed]",
      "text/plain": [
       "<Figure size 432x288 with 1 Axes>"
      ]
     },
     "metadata": {},
     "output_type": "display_data"
    }
   ],
   "source": [
    "df1.plot.pie(y=\"perceptions_of_corruption\", labels=df1.index)\n",
    "plt.show()"
   ]
  },
  {
   "cell_type": "code",
   "execution_count": null,
   "id": "930b7ff4",
   "metadata": {},
   "outputs": [],
   "source": []
  }
 ],
 "metadata": {
  "kernelspec": {
   "display_name": "Python 3 (ipykernel)",
   "language": "python",
   "name": "python3"
  },
  "language_info": {
   "codemirror_mode": {
    "name": "ipython",
    "version": 3
   },
   "file_extension": ".py",
   "mimetype": "text/x-python",
   "name": "python",
   "nbconvert_exporter": "python",
   "pygments_lexer": "ipython3",
   "version": "3.9.7"
  }
 },
 "nbformat": 4,
 "nbformat_minor": 5
}
